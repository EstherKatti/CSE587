{
 "cells": [
  {
   "cell_type": "markdown",
   "metadata": {},
   "source": [
    "# Lab1_Part3\n",
    "# Keerthana Baskaran\n",
    "# Esther Raja Kumari\n"
   ]
  },
  {
   "cell_type": "markdown",
   "metadata": {},
   "source": [
    "# Loading all the Required Libraries"
   ]
  },
  {
   "cell_type": "code",
   "execution_count": 1,
   "metadata": {},
   "outputs": [
    {
     "name": "stderr",
     "output_type": "stream",
     "text": [
      "Warning message:\n",
      "\"package 'twitteR' was built under R version 3.5.3\"Warning message:\n",
      "\"package 'ROAuth' was built under R version 3.5.3\"Warning message:\n",
      "\"package 'ggplot2' was built under R version 3.5.3\"Warning message:\n",
      "\"package 'ggmap' was built under R version 3.5.3\"Google's Terms of Service: https://cloud.google.com/maps-platform/terms/.\n",
      "Please cite ggmap if you use it! See citation(\"ggmap\") for details.\n",
      "Warning message:\n",
      "\"package 'maptools' was built under R version 3.5.3\"Loading required package: sp\n",
      "Warning message:\n",
      "\"package 'sp' was built under R version 3.5.2\"Checking rgeos availability: TRUE\n"
     ]
    }
   ],
   "source": [
    "library(twitteR)\n",
    "library(ROAuth)\n",
    "library(ggplot2)\n",
    "library(ggmap)\n",
    "library(maptools)\n",
    "consumer_key <- \"\"\n",
    "consumer_secret <- \"\"\n",
    "access_token <- \"\"\n",
    "access_secret <- \"\"\n",
    "register_google(key = \"\")"
   ]
  },
  {
   "cell_type": "markdown",
   "metadata": {},
   "source": [
    "# Searching for tweets and removing retweets"
   ]
  },
  {
   "cell_type": "code",
   "execution_count": 2,
   "metadata": {
    "scrolled": true
   },
   "outputs": [
    {
     "name": "stdout",
     "output_type": "stream",
     "text": [
      "[1] \"Using direct authentication\"\n"
     ]
    }
   ],
   "source": [
    "setup_twitter_oauth(consumer_key, consumer_secret, access_token, access_secret)\n",
    "tweets_res <- searchTwitter(\"flu OR usflu OR usinfluenza OR influenza OR H3N2 OR H1N1 OR flutests OR positiveflutest OR fluhospitalizations OR flumortality OR UnitedStatesflu OR fluepidemic OR statesflu OR flushot OR flu2018 OR flu2017 OR flu 2019\", n =20,lang=\"en\",geocode=\"40.482405,-97.413745,2280mi\")\n",
    "tweets.df <- twListToDF(tweets_res)\n",
    "tweets.df <- tweets.df[((tweets.df$isRetweet == FALSE)),]\n",
    "twitter_users <- lookupUsers(users = tweets.df$screenName, includeNA = TRUE)\n",
    "twitter_users.df <- twListToDF(twitter_users)\n",
    "tweets.df$location <- twitter_users.df$location[match(tweets.df$screenName, twitter_users.df$screenName)]\n",
    "tweets.df <- tweets.df[!(is.na(tweets.df$location) | (tweets.df$location == \"\")),]"
   ]
  },
  {
   "cell_type": "code",
   "execution_count": 3,
   "metadata": {},
   "outputs": [
    {
     "data": {
      "text/html": [
       "<ol class=list-inline>\n",
       "\t<li>10</li>\n",
       "\t<li>17</li>\n",
       "</ol>\n"
      ],
      "text/latex": [
       "\\begin{enumerate*}\n",
       "\\item 10\n",
       "\\item 17\n",
       "\\end{enumerate*}\n"
      ],
      "text/markdown": [
       "1. 10\n",
       "2. 17\n",
       "\n",
       "\n"
      ],
      "text/plain": [
       "[1] 10 17"
      ]
     },
     "metadata": {},
     "output_type": "display_data"
    }
   ],
   "source": [
    "dim(tweets.df)"
   ]
  },
  {
   "cell_type": "markdown",
   "metadata": {},
   "source": [
    "# Getting the states from latitude and longitude using revgeo"
   ]
  },
  {
   "cell_type": "code",
   "execution_count": 4,
   "metadata": {},
   "outputs": [
    {
     "name": "stderr",
     "output_type": "stream",
     "text": [
      "Warning message:\n",
      "\"package 'revgeo' was built under R version 3.5.2\"Source : https://maps.googleapis.com/maps/api/geocode/json?address=Arlington,+VA&key=xxx\n",
      "Source : https://maps.googleapis.com/maps/api/geocode/json?address=Durham,+NC&key=xxx\n",
      "Source : https://maps.googleapis.com/maps/api/geocode/json?address=United+States&key=xxx\n",
      "Source : https://maps.googleapis.com/maps/api/geocode/json?address=Washington,+D.C.,+U.S.A.&key=xxx\n",
      "Source : https://maps.googleapis.com/maps/api/geocode/json?address=New+York,+USA&key=xxx\n",
      "Source : https://maps.googleapis.com/maps/api/geocode/json?address=Texas&key=xxx\n",
      "Source : https://maps.googleapis.com/maps/api/geocode/json?address=Baltimore,+MD&key=xxx\n",
      "Source : https://maps.googleapis.com/maps/api/geocode/json?address=Baltimore,+MD&key=xxx\n",
      "Source : https://maps.googleapis.com/maps/api/geocode/json?address=Trinidad+and+Tobago&key=xxx\n",
      "Source : https://maps.googleapis.com/maps/api/geocode/json?address=Cleveland&key=xxx\n"
     ]
    },
    {
     "name": "stdout",
     "output_type": "stream",
     "text": [
      "[1] \"Getting geocode data from Photon: http://photon.komoot.de/reverse?lon=-77.0909809&lat=38.8816208\"\n",
      "[1] \"Getting geocode data from Photon: http://photon.komoot.de/reverse?lon=-78.898619&lat=35.9940329\"\n",
      "[1] \"Getting geocode data from Photon: http://photon.komoot.de/reverse?lon=-95.712891&lat=37.09024\"\n",
      "[1] \"Getting geocode data from Photon: http://photon.komoot.de/reverse?lon=-77.0368707&lat=38.9071923\"\n",
      "[1] \"Getting geocode data from Photon: http://photon.komoot.de/reverse?lon=-74.0059728&lat=40.7127753\"\n",
      "[1] \"Getting geocode data from Photon: http://photon.komoot.de/reverse?lon=-99.9018131&lat=31.9685988\"\n",
      "[1] \"Getting geocode data from Photon: http://photon.komoot.de/reverse?lon=-76.6121893&lat=39.2903848\"\n",
      "[1] \"Getting geocode data from Photon: http://photon.komoot.de/reverse?lon=-76.6121893&lat=39.2903848\"\n",
      "[1] \"Getting geocode data from Photon: http://photon.komoot.de/reverse?lon=-61.222503&lat=10.691803\"\n",
      "[1] \"Getting geocode data from Photon: http://photon.komoot.de/reverse?lon=-81.6943605&lat=41.49932\"\n"
     ]
    }
   ],
   "source": [
    "#Adding a column state values to store the information of the states which we get from the reverse geocode.\n",
    "#I used geocode to get the information of the latitude and longitude through the user information.\n",
    "library(revgeo)\n",
    "tweets.df <- tweets.df[!(is.na(tweets.df$location) | (tweets.df$location == \"\")),]\n",
    "namevector <- c(\"states_col\")\n",
    "tweets.df[ , namevector] <- NA\n",
    "for(i in 1:nrow(tweets.df)) {\n",
    "    \n",
    "    tweet <- tweets.df[i,]\n",
    "    add <- toString(tweet$location)\n",
    "    tryCatch({ \n",
    "      result <- geocode(add,output = \"more\", source = \"google\")\n",
    "      tweets.df$longitude[i] <- result$lon\n",
    "      tweets.df$latitude[i] <- result$lat\n",
    "    }, error=function(e){ print (e)})\n",
    "\n",
    "  }\n",
    "revresult<-revgeo(tweets.df$longitude, tweets.df$latitude, output = 'frame')\n",
    "tweets.df$states_col<-revresult$state\n",
    "old_data <-data.frame(read.csv(\"C://Users//Esther//Desktop//MS-CS-2nd sem//Data Intensive Computing//ESTHERRA_LAB1//Part3//FluTweetsData.csv\")) "
   ]
  },
  {
   "cell_type": "markdown",
   "metadata": {},
   "source": [
    "# Writing unique data into csv file"
   ]
  },
  {
   "cell_type": "code",
   "execution_count": 5,
   "metadata": {},
   "outputs": [
    {
     "name": "stderr",
     "output_type": "stream",
     "text": [
      "Warning message in `[<-.factor`(`*tmp*`, ri, value = structure(c(1554479642, 1554479508, :\n",
      "\"invalid factor level, NA generated\""
     ]
    },
    {
     "data": {
      "text/html": [
       "<ol class=list-inline>\n",
       "\t<li>3380</li>\n",
       "\t<li>18</li>\n",
       "</ol>\n"
      ],
      "text/latex": [
       "\\begin{enumerate*}\n",
       "\\item 3380\n",
       "\\item 18\n",
       "\\end{enumerate*}\n"
      ],
      "text/markdown": [
       "1. 3380\n",
       "2. 18\n",
       "\n",
       "\n"
      ],
      "text/plain": [
       "[1] 3380   18"
      ]
     },
     "metadata": {},
     "output_type": "display_data"
    }
   ],
   "source": [
    "# Finding the unique data from the previous data and the data we have extraxted from the unique function.Updating the csv file everytime with the new unique data\n",
    "final_data <- unique(rbind(old_data, tweets.df))\n",
    "write.csv(final_data, \"FluTweetsData.csv\", row.names = F )\n",
    "dim(final_data)"
   ]
  },
  {
   "cell_type": "code",
   "execution_count": null,
   "metadata": {},
   "outputs": [],
   "source": []
  }
 ],
 "metadata": {
  "kernelspec": {
   "display_name": "R",
   "language": "R",
   "name": "ir"
  },
  "language_info": {
   "codemirror_mode": "r",
   "file_extension": ".r",
   "mimetype": "text/x-r-source",
   "name": "R",
   "pygments_lexer": "r",
   "version": "3.5.1"
  }
 },
 "nbformat": 4,
 "nbformat_minor": 2
}
